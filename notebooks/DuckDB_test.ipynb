{
 "cells": [
  {
   "cell_type": "code",
   "execution_count": 1,
   "metadata": {},
   "outputs": [],
   "source": [
    "import duckdb"
   ]
  },
  {
   "cell_type": "code",
   "execution_count": 2,
   "metadata": {},
   "outputs": [],
   "source": [
    "# to use a database file (shared between processes)\n",
    "con = duckdb.connect(database='../src/dbt_project/database/dagster.duckdb', read_only=True)\n",
    "\n",
    "con.execute('SELECT * FROM dbt_project.customers')\n",
    "df = con.fetch_df().sample(50)\n",
    "\n",
    "con.close()"
   ]
  },
  {
   "cell_type": "code",
   "execution_count": 3,
   "metadata": {},
   "outputs": [
    {
     "name": "stdout",
     "output_type": "stream",
     "text": [
      "<class 'pandas.core.frame.DataFrame'>\n",
      "Int64Index: 50 entries, 4 to 78\n",
      "Data columns (total 6 columns):\n",
      " #   Column                  Non-Null Count  Dtype         \n",
      "---  ------                  --------------  -----         \n",
      " 0   customer_id             50 non-null     int32         \n",
      " 1   FIRST_NAME              50 non-null     object        \n",
      " 2   LAST_NAME               50 non-null     object        \n",
      " 3   first_order_date        29 non-null     datetime64[ns]\n",
      " 4   most_recent_order_date  29 non-null     datetime64[ns]\n",
      " 5   number_of_orders        50 non-null     int64         \n",
      "dtypes: datetime64[ns](2), int32(1), int64(1), object(2)\n",
      "memory usage: 2.5+ KB\n"
     ]
    }
   ],
   "source": [
    "df.info()"
   ]
  }
 ],
 "metadata": {
  "kernelspec": {
   "display_name": "Python 3.10.8 ('ae-env')",
   "language": "python",
   "name": "python3"
  },
  "language_info": {
   "codemirror_mode": {
    "name": "ipython",
    "version": 3
   },
   "file_extension": ".py",
   "mimetype": "text/x-python",
   "name": "python",
   "nbconvert_exporter": "python",
   "pygments_lexer": "ipython3",
   "version": "3.10.8"
  },
  "orig_nbformat": 4,
  "vscode": {
   "interpreter": {
    "hash": "8c04bf6e5193a5d44414fe302a120a0fdd9ad4261724dd6373fb97d2019ba37e"
   }
  }
 },
 "nbformat": 4,
 "nbformat_minor": 2
}
